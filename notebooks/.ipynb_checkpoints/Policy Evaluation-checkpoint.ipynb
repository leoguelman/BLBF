{
 "cells": [
  {
   "cell_type": "markdown",
   "metadata": {},
   "source": [
    "# Policy Evaluation Examples"
   ]
  },
  {
   "cell_type": "code",
   "execution_count": 1,
   "metadata": {},
   "outputs": [
    {
     "name": "stderr",
     "output_type": "stream",
     "text": [
      "/Users/lguelman/opt/anaconda3/lib/python3.8/site-packages/sklearn/utils/deprecation.py:143: FutureWarning: The sklearn.ensemble.forest module is  deprecated in version 0.22 and will be removed in version 0.24. The corresponding classes / functions should instead be imported from sklearn.ensemble. Anything that cannot be imported from sklearn.ensemble is now part of the private API.\n",
      "  warnings.warn(message, FutureWarning)\n"
     ]
    }
   ],
   "source": [
    "import sys\n",
    "sys.path.append(\"../\")\n",
    "\n",
    "from blbf.STBT import STBT\n",
    "from blbf.PolicyEvaluation import PolicyEvaluation \n",
    "import blbf.DataReader as DataReader\n",
    "import blbf.utils as utils\n",
    "import pandas as pd\n",
    "import numpy as np\n",
    "import sklearn.linear_model \n",
    "import seaborn as sns\n",
    "import matplotlib.pyplot as plt"
   ]
  },
  {
   "cell_type": "markdown",
   "metadata": {},
   "source": [
    "## Compare the following methods\n",
    "\n",
    "* IPS: Inverse Propensity Score\n",
    "* DM: Direct Method (Reward Prediction)\n",
    "* DR: Doubly Robust\n",
    "* SWITCH: Switch Estimator"
   ]
  },
  {
   "cell_type": "code",
   "execution_count": 2,
   "metadata": {},
   "outputs": [],
   "source": [
    "class ComparePolicyEvaluation:\n",
    "    \n",
    "    def __init__(self, B: int = 100, datasets: list = None):\n",
    "        self.B = B\n",
    "        self.datasets = datasets\n",
    "        \n",
    "    def __repr__(self):\n",
    "            \n",
    "        items = (\"%s = %r\" % (k, v) for k, v in self.__dict__.items())\n",
    "        return \"<%s: {%s}>\" % (self.__class__.__name__, ', '.join(items))\n",
    "\n",
    "    def fit_policies(self, **kwargs) -> pd.DataFrame:\n",
    "        \n",
    "        if self.datasets is None:\n",
    "            self.datasets = ['ecoli', 'glass', 'lymphography', 'yeast', \n",
    "                        'digits', 'breast-cancer', 'wine'] # 'letter-recognition'\n",
    "        dat = list()\n",
    "        true_value = list()\n",
    "        ips = list()\n",
    "        dm = list()\n",
    "        dr = list()\n",
    "        switch = list()\n",
    "        \n",
    "        for s in self.datasets:\n",
    "            for b in range(self.B):\n",
    "                if (b % 10) == 0:\n",
    "                    print(\"Sample: %d - Dataset: %s\" % (b, s))\n",
    "                X, y = DataReader.get_data(dataset=s)\n",
    "                d = STBT().generate_batch(X, y, max_iter=1000)\n",
    "                dat.append(s)\n",
    "                true_value.append(d.true_target_value_test)\n",
    "                ips.append(PolicyEvaluation(method='ips').evaluate_policy(data = d))\n",
    "                dm.append(PolicyEvaluation(method='dm').evaluate_policy(data = d, **kwargs))\n",
    "                dr.append(PolicyEvaluation(method='dr').evaluate_policy(data = d, **kwargs))\n",
    "                switch.append(PolicyEvaluation(method='switch').evaluate_policy(data = d, **kwargs))\n",
    "           \n",
    "        res = pd.DataFrame.from_dict({'dataset':dat, 'true_value':true_value, 'ips':ips,\n",
    "                                     'dm': dm, 'dr':dr, 'switch': switch})\n",
    "    \n",
    "        # Bias\n",
    "        res['ips_bias'] = res['true_value'].values - res['ips'].values\n",
    "        res['dm_bias'] = res['true_value'].values - res['dm'].values\n",
    "        res['dr_bias'] = res['true_value'].values - res['dr'].values\n",
    "        res['switch_bias'] = res['true_value'].values - res['switch'].values\n",
    "        \n",
    "        # Relative risk\n",
    "        res['ips_rr'] = np.abs((res['true_value'].values - res['ips'].values)/res['true_value'].values)\n",
    "        res['dm_rr'] = np.abs((res['true_value'].values - res['dm'].values)/res['true_value'].values)\n",
    "        res['dr_rr'] = np.abs((res['true_value'].values - res['dr'].values)/res['true_value'].values)\n",
    "        res['switch_rr'] = np.abs((res['true_value'].values - res['switch'].values)/res['true_value'].values)\n",
    "        \n",
    "        self.res = res\n",
    "       \n",
    "        return self\n",
    "    \n",
    "    def get_summary_stats(self):\n",
    "        \n",
    "        res_summary = self.res.groupby(['dataset'], as_index=False).agg({\n",
    "                            'ips_bias': ['mean','std'], \n",
    "                            'dm_bias': ['mean','std'],\n",
    "                            'dr_bias': ['mean','std'],\n",
    "                            'switch_bias': ['mean','std'],\n",
    "                            'ips_rr': ['mean','std'], \n",
    "                            'dm_rr': ['mean','std'],\n",
    "                            'dr_rr': ['mean','std'],\n",
    "                            'switch_rr': ['mean','std']\n",
    "                            })\n",
    "        \n",
    "        self.res_summary = res_summary\n",
    "        return self\n",
    "    \n",
    "    def plot_bias(self):\n",
    "        \n",
    "        res_long = pd.melt(self.res, id_vars=['dataset'], var_name = 'method', value_name = \"bias\",\n",
    "                  value_vars=['ips_bias',  'dm_bias', 'dr_bias', 'switch_bias'])\n",
    "\n",
    "        ax = sns.catplot(x=\"method\", y=\"bias\", col = \"dataset\", kind = \"box\", \n",
    "                          col_wrap=3, data=res_long)\n",
    "        for i in range(len(ax.axes)):\n",
    "            ax_i = ax.axes[i]\n",
    "            ax_i.axhline(0, ls=\"--\")\n",
    "        \n",
    "        plt.show()"
   ]
  },
  {
   "cell_type": "code",
   "execution_count": null,
   "metadata": {},
   "outputs": [
    {
     "name": "stdout",
     "output_type": "stream",
     "text": [
      "Sample: 0 - Dataset: ecoli\n"
     ]
    }
   ],
   "source": [
    "cpe = ComparePolicyEvaluation(B=100).fit_policies(max_iter=1000)"
   ]
  },
  {
   "cell_type": "code",
   "execution_count": null,
   "metadata": {},
   "outputs": [],
   "source": [
    "cpe.get_summary_stats()\n",
    "cpe.res_summary   "
   ]
  },
  {
   "cell_type": "code",
   "execution_count": null,
   "metadata": {},
   "outputs": [],
   "source": [
    "cpe.plot_bias()"
   ]
  },
  {
   "cell_type": "code",
   "execution_count": null,
   "metadata": {},
   "outputs": [],
   "source": []
  }
 ],
 "metadata": {
  "kernelspec": {
   "display_name": "Python 3",
   "language": "python",
   "name": "python3"
  },
  "language_info": {
   "codemirror_mode": {
    "name": "ipython",
    "version": 3
   },
   "file_extension": ".py",
   "mimetype": "text/x-python",
   "name": "python",
   "nbconvert_exporter": "python",
   "pygments_lexer": "ipython3",
   "version": "3.8.3"
  }
 },
 "nbformat": 4,
 "nbformat_minor": 4
}
